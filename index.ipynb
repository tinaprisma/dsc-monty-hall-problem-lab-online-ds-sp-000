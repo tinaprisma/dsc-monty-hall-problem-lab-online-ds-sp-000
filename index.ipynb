{
 "cells": [
  {
   "cell_type": "markdown",
   "metadata": {},
   "source": [
    "# The Monty Hall Problem\n",
    "\n",
    "## Introduction\n",
    "\n",
    "The Monty Hall problem is a famous little puzzle from a game show. It goes like this: you are presented with 3 doors. Behind two are goats and behind the third is a car. You are asked to select a door; if you select the door with the car, you win! After selecting, the host then opens one of the remaining two doors, revealing a goat. The host then asks if you would like to switch doors or stick with your original choice. What would you do? Does it matter?\n",
    "\n",
    "<img src=\"images/Image_58_MontyHall.png\">\n",
    "\n",
    "## Objectives\n",
    "\n",
    "You will be able to:\n",
    "* Solve the monty hall problem using simulations"
   ]
  },
  {
   "cell_type": "markdown",
   "metadata": {},
   "source": [
    "## Run a Simulation\n",
    "\n",
    "This is not a traditional application of Bayes' Theorem, so trying to formulate the problem as such is tricky at best. That said, the scenario does capture the motivating conception behind Bayesian statistics: updating our beliefs in the face of additional evidence. With this, you'll employ another frequently used tool of Bayesian's&mdash;running a simulation. To do this, generate a random integer between one and three to represent the door hiding the car. Then, generate a second integer between one and three representing the player's selection. Then, of those the contestant did not choose, select a door concealing a goat to reveal. Record the results of the simulated game if they changed versus if they did not. Repeat this process a thousand (or more) times. Finally, plot the results of your simulation as a line graph. The x-axis should be the number of simulations, and the y-axis should be the probability of winning. (There should be two lines on the graph, one for switching doors, and the other for keeping the original selection.)"
   ]
  },
  {
   "cell_type": "code",
   "execution_count": null,
   "metadata": {},
   "outputs": [],
   "source": [
    "import random\n",
    "from random import choice\n",
    "import numpy as np\n"
   ]
  },
  {
   "cell_type": "code",
   "execution_count": 85,
   "metadata": {},
   "outputs": [],
   "source": [
    "# Simulation not changing the door:\n",
    "\n",
    "doors = [1,2,3]      # All doors list\n",
    "  # List to store selected door and door with car\n",
    "wins = []            # 0 for lose, 1 for win\n",
    "p_experimental = []\n",
    "trials = []\n",
    "for n in range(1,1001):\n",
    "\n",
    "    unshown_doors = [] \n",
    "    # Pick the door with the car and store in list\n",
    "    car_door = random.randint(1,3) # door hiding car\n",
    "    unshown_doors.append(car_door)\n",
    "    #print('Car: ' + str(car_door))\n",
    "    \n",
    "    # Pick the user selected door and store in list\n",
    "    selected_door = random.randint(1,3) # player selection\n",
    "    unshown_doors.append(selected_door)\n",
    "    #print('Select: ' + str(selected_door))\n",
    "\n",
    "    # Pick the door to show\n",
    "    goat_door_shown = choice([i for i in range(1,4) if i not in unshown_doors])\n",
    "    #print('Goat: ' + str(goat_door_shown))\n",
    "    \n",
    "    if selected_door == car_door:\n",
    "        wins.append(1)\n",
    "    else:\n",
    "        wins.append(0)\n",
    "    \n",
    "    trials.append(n)\n",
    "    p_experimental.append(sum(wins)/n)\n",
    "\n"
   ]
  },
  {
   "cell_type": "code",
   "execution_count": 86,
   "metadata": {},
   "outputs": [],
   "source": [
    "# Simulation changing the door:\n",
    "\n",
    "doors = [1,2,3]      # All doors list\n",
    "  # List to store selected door and door with car\n",
    "wins = []            # 0 for lose, 1 for win\n",
    "trials_ = []\n",
    "p_experimental_ = []\n",
    "for n in range(1,1001):\n",
    "\n",
    "    unshown_doors = [] \n",
    "    # Pick the door with the car and store in list\n",
    "    car_door = random.randint(1,3) # door hiding car\n",
    "    unshown_doors.append(car_door)\n",
    "    #print('Car: ' + str(car_door))\n",
    "    \n",
    "    #Pick the user selected door and store in list\n",
    "    selected_door = random.randint(1,3) # player selection\n",
    "    unshown_doors.append(selected_door)\n",
    "    #print('Select: ' + str(selected_door))\n",
    "\n",
    "    # Pick the door to show\n",
    "    goat_door_shown = choice([i for i in range(1,4) if i not in unshown_doors])\n",
    "    #print('Goat: ' + str(goat_door_shown))\n",
    "    \n",
    "    # Change the selection:\n",
    "    selected_door = choice([i for i in range(1,4) if i not in [selected_door, goat_door_shown]])\n",
    "    #print('Change in selection to: ' + str(selected_door))\n",
    "    \n",
    "    if selected_door == car_door:\n",
    "        wins.append(1)\n",
    "    else:\n",
    "        wins.append(0)\n",
    "        \n",
    "    trials_.append(n)\n",
    "    p_experimental_.append(sum(wins)/n)\n"
   ]
  },
  {
   "cell_type": "code",
   "execution_count": 87,
   "metadata": {},
   "outputs": [
    {
     "data": {
      "image/png": "[encoded data removed]",
      "text/plain": [
       "<Figure size 432x288 with 1 Axes>"
      ]
     },
     "metadata": {
      "needs_background": "light"
     },
     "output_type": "display_data"
    }
   ],
   "source": [
    "import matplotlib.pyplot as plt\n",
    "\n",
    "plt.title('Probability of Winning the Car - Monty Hall Problem')\n",
    "plt.xlabel('Number of trials')\n",
    "plt.ylabel('Cumulative experimental probability')\n",
    "plt.plot(trials,p_experimental, label = 'Kept selection',color='green')\n",
    "plt.plot(trials_,p_experimental_, label = 'Switched selection',color='indigo')\n",
    "plt.legend()\n",
    "plt.show()"
   ]
  },
  {
   "cell_type": "markdown",
   "metadata": {},
   "source": [
    "## Summary\n",
    "\n",
    "In this lab you further investigated the idea of Bayes' Theorem and Bayesian statistics in general through the Monty Hall problem. Hopefully this was an entertaining little experience! "
   ]
  }
 ],
 "metadata": {
  "kernelspec": {
   "display_name": "Python 3",
   "language": "python",
   "name": "python3"
  },
  "language_info": {
   "codemirror_mode": {
    "name": "ipython",
    "version": 3
   },
   "file_extension": ".py",
   "mimetype": "text/x-python",
   "name": "python",
   "nbconvert_exporter": "python",
   "pygments_lexer": "ipython3",
   "version": "3.7.3"
  }
 },
 "nbformat": 4,
 "nbformat_minor": 2
}
